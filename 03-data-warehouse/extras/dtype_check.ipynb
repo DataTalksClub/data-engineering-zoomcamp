{
 "cells": [
  {
   "cell_type": "code",
   "execution_count": 5,
   "metadata": {},
   "outputs": [
    {
     "name": "stdout",
     "output_type": "stream",
     "text": [
      "Collecting pyarrow\n",
      "  Downloading pyarrow-19.0.1-cp311-cp311-macosx_12_0_arm64.whl.metadata (3.3 kB)\n",
      "Downloading pyarrow-19.0.1-cp311-cp311-macosx_12_0_arm64.whl (30.7 MB)\n",
      "\u001b[2K   \u001b[90m━━━━━━━━━━━━━━━━━━━━━━━━━━━━━━━━━━━━━━━━\u001b[0m \u001b[32m30.7/30.7 MB\u001b[0m \u001b[31m59.5 MB/s\u001b[0m eta \u001b[36m0:00:00\u001b[0ma \u001b[36m0:00:01\u001b[0m\n",
      "\u001b[?25hInstalling collected packages: pyarrow\n",
      "Successfully installed pyarrow-19.0.1\n",
      "\n",
      "\u001b[1m[\u001b[0m\u001b[34;49mnotice\u001b[0m\u001b[1;39;49m]\u001b[0m\u001b[39;49m A new release of pip is available: \u001b[0m\u001b[31;49m24.3.1\u001b[0m\u001b[39;49m -> \u001b[0m\u001b[32;49m25.0.1\u001b[0m\n",
      "\u001b[1m[\u001b[0m\u001b[34;49mnotice\u001b[0m\u001b[1;39;49m]\u001b[0m\u001b[39;49m To update, run: \u001b[0m\u001b[32;49mpython3.11 -m pip install --upgrade pip\u001b[0m\n",
      "Note: you may need to restart the kernel to use updated packages.\n"
     ]
    }
   ],
   "source": [
    "pip install pyarrow"
   ]
  },
  {
   "cell_type": "code",
   "execution_count": 6,
   "metadata": {},
   "outputs": [],
   "source": [
    "import pandas as pd "
   ]
  },
  {
   "cell_type": "code",
   "execution_count": 10,
   "metadata": {},
   "outputs": [
    {
     "name": "stdout",
     "output_type": "stream",
     "text": [
      "                          dtype\n",
      "dispatching_base_num     object\n",
      "pickup_datetime          object\n",
      "dropOff_datetime         object\n",
      "PUlocationID            float64\n",
      "DOlocationID            float64\n",
      "SR_Flag                 float64\n",
      "Affiliated_base_number   object\n"
     ]
    }
   ],
   "source": [
    "df = pd.read_parquet('fhv_tripdata_2019-01.parquet')\n",
    "col_types = pd.DataFrame(df.dtypes, columns=['dtype'])\n",
    "print(col_types)"
   ]
  },
  {
   "cell_type": "code",
   "execution_count": 12,
   "metadata": {},
   "outputs": [
    {
     "name": "stdout",
     "output_type": "stream",
     "text": [
      "01\n",
      "02\n",
      "03\n",
      "04\n",
      "05\n",
      "06\n",
      "07\n",
      "08\n",
      "09\n",
      "10\n",
      "11\n",
      "12\n",
      "                             01       02       03       04       05       06  \\\n",
      "dispatching_base_num     object   object   object   object   object   object   \n",
      "pickup_datetime          object   object   object   object   object   object   \n",
      "dropOff_datetime         object   object   object   object   object   object   \n",
      "PUlocationID            float64  float64  float64  float64  float64  float64   \n",
      "DOlocationID            float64  float64  float64  float64  float64  float64   \n",
      "SR_Flag                 float64  float64  float64  float64  float64  float64   \n",
      "Affiliated_base_number   object   object   object   object   object   object   \n",
      "\n",
      "                             07       08       09       10       11       12  \n",
      "dispatching_base_num     object   object   object   object   object   object  \n",
      "pickup_datetime          object   object   object   object   object   object  \n",
      "dropOff_datetime         object   object   object   object   object   object  \n",
      "PUlocationID            float64  float64  float64  float64  float64  float64  \n",
      "DOlocationID            float64  float64  float64  float64  float64  float64  \n",
      "SR_Flag                 float64  float64  float64  float64  float64  float64  \n",
      "Affiliated_base_number   object   object   object   object   object   object  \n"
     ]
    }
   ],
   "source": [
    "for i in range(12):\n",
    "    month = '0'+str(i+1)\n",
    "    month = month[-2:]\n",
    "    print(month)\n",
    "\n",
    "    df = pd.read_parquet('fhv_tripdata_2019-'+month+'.parquet')\n",
    "\n",
    "    if i == 0:\n",
    "        col_types = pd.DataFrame(df.dtypes, columns=[month])\n",
    "    else:\n",
    "        col_types = pd.merge(col_types, pd.DataFrame(df.dtypes, columns=[month]), left_index=True, right_index=True)\n",
    "        \n",
    "print(col_types)"
   ]
  },
  {
   "cell_type": "code",
   "execution_count": null,
   "metadata": {},
   "outputs": [],
   "source": []
  }
 ],
 "metadata": {
  "kernelspec": {
   "display_name": "Python 3",
   "language": "python",
   "name": "python3"
  },
  "language_info": {
   "codemirror_mode": {
    "name": "ipython",
    "version": 3
   },
   "file_extension": ".py",
   "mimetype": "text/x-python",
   "name": "python",
   "nbconvert_exporter": "python",
   "pygments_lexer": "ipython3",
   "version": "3.11.11"
  }
 },
 "nbformat": 4,
 "nbformat_minor": 2
}
