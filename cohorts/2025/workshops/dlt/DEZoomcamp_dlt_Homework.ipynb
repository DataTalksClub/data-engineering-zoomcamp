{
  "nbformat": 4,
  "nbformat_minor": 0,
  "metadata": {
    "colab": {
      "provenance": [],
      "toc_visible": true,
      "include_colab_link": true
    },
    "kernelspec": {
      "name": "python3",
      "display_name": "Python 3"
    },
    "language_info": {
      "name": "python"
    }
  },
  "cells": [
    {
      "cell_type": "markdown",
      "metadata": {
        "id": "view-in-github",
        "colab_type": "text"
      },
      "source": [
        "<a href=\"https://colab.research.google.com/github/hlqiao23/data-engineering-zoomcamp/blob/main/DEZoomcamp_dlt_Homework.ipynb\" target=\"_parent\"><img src=\"https://colab.research.google.com/assets/colab-badge.svg\" alt=\"Open In Colab\"/></a>"
      ]
    },
    {
      "cell_type": "markdown",
      "source": [
        "# **Workshop \"Data Ingestion with dlt\": Homework**\n"
      ],
      "metadata": {
        "id": "EFPjhhB5VXd9"
      }
    },
    {
      "cell_type": "markdown",
      "source": [
        "---\n",
        "\n",
        "## **Dataset & API**\n",
        "\n",
        "We’ll use **NYC Taxi data** via the same custom API from the workshop:\n",
        "\n",
        "🔹 **Base API URL:**  \n",
        "```\n",
        "https://us-central1-dlthub-analytics.cloudfunctions.net/data_engineering_zoomcamp_api\n",
        "```\n",
        "🔹 **Data format:** Paginated JSON (1,000 records per page).  \n",
        "🔹 **API Pagination:** Stop when an empty page is returned.  "
      ],
      "metadata": {
        "id": "a0V54cILVjfy"
      }
    },
    {
      "cell_type": "markdown",
      "source": [
        "## **Question 1: dlt Version**\n",
        "\n",
        "1. **Install dlt**:"
      ],
      "metadata": {
        "id": "pNq2oqruVtiQ"
      }
    },
    {
      "cell_type": "code",
      "source": [
        " !pip install dlt[duckdb]"
      ],
      "metadata": {
        "id": "9yTfzUkZVwYi"
      },
      "execution_count": null,
      "outputs": []
    },
    {
      "cell_type": "markdown",
      "source": [
        "> Or choose a different bracket—`bigquery`, `redshift`, etc.—if you prefer another primary destination. For this assignment, we’ll still do a quick test with DuckDB.\n",
        "\n",
        "2. **Check** the version:\n"
      ],
      "metadata": {
        "id": "Xv9gkwKIV3wM"
      }
    },
    {
      "cell_type": "code",
      "source": [
        "!dlt --version"
      ],
      "metadata": {
        "id": "scFCGjeMWCkI"
      },
      "execution_count": null,
      "outputs": []
    },
    {
      "cell_type": "markdown",
      "source": [
        "or:"
      ],
      "metadata": {
        "id": "Z-YrUxR8WFNw"
      }
    },
    {
      "cell_type": "code",
      "source": [
        "import dlt\n",
        "print(\"dlt version:\", dlt.__version__)"
      ],
      "metadata": {
        "id": "SSm1xDzPV5dO"
      },
      "execution_count": null,
      "outputs": []
    },
    {
      "cell_type": "markdown",
      "source": [
        "**Answer**:  \n",
        "- Provide the **version** you see in the output."
      ],
      "metadata": {
        "id": "f0Z3F5s4WaXO"
      }
    },
    {
      "cell_type": "markdown",
      "source": [
        "## **Question 2: Define & Run the Pipeline (NYC Taxi API)**\n",
        "\n",
        "Use dlt to extract all pages of data from the API.\n",
        "\n",
        "Steps:\n",
        "\n",
        "1️⃣ Use the `@dlt.resource` decorator to define the API source.\n",
        "\n",
        "2️⃣ Implement automatic pagination using dlt's built-in REST client.\n",
        "\n",
        "3️⃣ Load the extracted data into DuckDB for querying.\n",
        "\n"
      ],
      "metadata": {
        "id": "M02IXn-GWdBO"
      }
    },
    {
      "cell_type": "code",
      "source": [
        "import dlt\n",
        "from dlt.sources.helpers.rest_client import RESTClient\n",
        "from dlt.sources.helpers.rest_client.paginators import PageNumberPaginator\n",
        "\n",
        "\n",
        "# your code is here\n",
        "\n",
        "\n",
        "pipeline = dlt.pipeline(\n",
        "    pipeline_name=\"ny_taxi_pipeline\",\n",
        "    destination=\"duckdb\",\n",
        "    dataset_name=\"ny_taxi_data\"\n",
        ")"
      ],
      "metadata": {
        "id": "8ChhfBNUWshT"
      },
      "execution_count": null,
      "outputs": []
    },
    {
      "cell_type": "markdown",
      "source": [
        "Load the data into DuckDB to test:\n",
        "\n",
        "\n",
        "\n",
        "\n"
      ],
      "metadata": {
        "id": "Y64a4o7qXGzH"
      }
    },
    {
      "cell_type": "code",
      "source": [
        "load_info = pipeline.run(ny_taxi)\n",
        "print(load_info)"
      ],
      "metadata": {
        "id": "emXcAQN2XIYk"
      },
      "execution_count": null,
      "outputs": []
    },
    {
      "cell_type": "markdown",
      "source": [
        "Start a connection to your database using native `duckdb` connection and look what tables were generated:"
      ],
      "metadata": {
        "id": "VfFtRuJLeTJZ"
      }
    },
    {
      "cell_type": "code",
      "source": [
        "import duckdb\n",
        "from google.colab import data_table\n",
        "data_table.enable_dataframe_formatter()\n",
        "\n",
        "# A database '<pipeline_name>.duckdb' was created in working directory so just connect to it\n",
        "\n",
        "# Connect to the DuckDB database\n",
        "conn = duckdb.connect(f\"{pipeline.pipeline_name}.duckdb\")\n",
        "\n",
        "# Set search path to the dataset\n",
        "conn.sql(f\"SET search_path = '{pipeline.dataset_name}'\")\n",
        "\n",
        "# Describe the dataset\n",
        "conn.sql(\"DESCRIBE\").df()"
      ],
      "metadata": {
        "id": "bmOjtD-Xeq3K"
      },
      "execution_count": null,
      "outputs": []
    },
    {
      "cell_type": "markdown",
      "source": [
        "**Answer:**\n",
        "* How many tables were created?"
      ],
      "metadata": {
        "id": "lmfI_zjoeIrf"
      }
    },
    {
      "cell_type": "markdown",
      "source": [
        "## **Question 3: Explore the loaded data**"
      ],
      "metadata": {
        "id": "LLuS9O63f-fv"
      }
    },
    {
      "cell_type": "markdown",
      "source": [
        "Inspect the table `ride`:\n"
      ],
      "metadata": {
        "id": "d_cWQaQjXLn8"
      }
    },
    {
      "cell_type": "code",
      "source": [
        "df = pipeline.dataset(dataset_type=\"default\").rides.df()\n",
        "df"
      ],
      "metadata": {
        "id": "lvpYmnhkXKLZ"
      },
      "execution_count": null,
      "outputs": []
    },
    {
      "cell_type": "markdown",
      "source": [
        "**Answer:**\n",
        "* What is the total number of records extracted?"
      ],
      "metadata": {
        "id": "OZEvd9TcgEst"
      }
    },
    {
      "cell_type": "markdown",
      "source": [
        "## **Question 4: Trip Duration Analysis**\n",
        "\n",
        "Run the SQL query below to:\n",
        "\n",
        "* Calculate the average trip duration in minutes."
      ],
      "metadata": {
        "id": "joyAEvNae6Ds"
      }
    },
    {
      "cell_type": "code",
      "source": [
        "with pipeline.sql_client() as client:\n",
        "    res = client.execute_sql(\n",
        "            \"\"\"\n",
        "            SELECT\n",
        "            AVG(date_diff('minute', trip_pickup_date_time, trip_dropoff_date_time))\n",
        "            FROM rides;\n",
        "            \"\"\"\n",
        "        )\n",
        "    # Prints column values of the first row\n",
        "    print(res)"
      ],
      "metadata": {
        "id": "BtsSxtFfXQs3"
      },
      "execution_count": null,
      "outputs": []
    },
    {
      "cell_type": "markdown",
      "source": [
        "**Answer:**\n",
        "* What is the average trip duration?"
      ],
      "metadata": {
        "id": "YTIydWT0dTf9"
      }
    },
    {
      "cell_type": "markdown",
      "source": [
        "## **Submitting the solutions**\n",
        "\n",
        "* Form for submitting: TBA\n",
        "\n",
        "\n"
      ],
      "metadata": {
        "id": "kEFQZKB0gkCI"
      }
    },
    {
      "cell_type": "markdown",
      "source": [
        "## **Solution**\n",
        "\n",
        "We will publish the solution here after deadline."
      ],
      "metadata": {
        "id": "cPrgwE3ziNan"
      }
    }
  ]
}