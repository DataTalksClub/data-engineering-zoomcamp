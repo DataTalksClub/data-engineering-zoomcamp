{
  "nbformat": 4,
  "nbformat_minor": 0,
  "metadata": {
    "colab": {
      "provenance": [],
      "toc_visible": true
    },
    "kernelspec": {
      "name": "python3",
      "display_name": "Python 3"
    },
    "language_info": {
      "name": "python"
    }
  },
  "cells": [
    {
      "cell_type": "markdown",
      "source": [
        "# **Workshop \"Data Ingestion with dlt\": Homework**\n"
      ],
      "metadata": {
        "id": "EFPjhhB5VXd9"
      }
    },
    {
      "cell_type": "markdown",
      "source": [
        "---\n",
        "\n",
        "## **Dataset & API**\n",
        "\n",
        "We’ll use **NYC Taxi data** via the same custom API from the workshop:\n",
        "\n",
        "🔹 **Base API URL:**  \n",
        "```\n",
        "https://us-central1-dlthub-analytics.cloudfunctions.net/data_engineering_zoomcamp_api\n",
        "```\n",
        "🔹 **Data format:** Paginated JSON (1,000 records per page).  \n",
        "🔹 **API Pagination:** Stop when an empty page is returned.  "
      ],
      "metadata": {
        "id": "a0V54cILVjfy"
      }
    },
    {
      "cell_type": "markdown",
      "source": [
        "## **Question 1: dlt Version**\n",
        "\n",
        "1. **Install dlt**:"
      ],
      "metadata": {
        "id": "pNq2oqruVtiQ"
      }
    },
    {
      "cell_type": "code",
      "source": [
        " !pip install dlt[duckdb]"
      ],
      "metadata": {
        "id": "9yTfzUkZVwYi",
        "outputId": "8ed16304-3baf-4307-e206-e88774249334",
        "colab": {
          "base_uri": "https://localhost:8080/"
        }
      },
      "execution_count": 1,
      "outputs": [
        {
          "output_type": "stream",
          "name": "stdout",
          "text": [
            "Collecting dlt[duckdb]\n",
            "  Downloading dlt-1.6.1-py3-none-any.whl.metadata (11 kB)\n",
            "Requirement already satisfied: PyYAML>=5.4.1 in /usr/local/lib/python3.11/dist-packages (from dlt[duckdb]) (6.0.2)\n",
            "Requirement already satisfied: click>=7.1 in /usr/local/lib/python3.11/dist-packages (from dlt[duckdb]) (8.1.8)\n",
            "Requirement already satisfied: duckdb>=0.9 in /usr/local/lib/python3.11/dist-packages (from dlt[duckdb]) (1.1.3)\n",
            "Requirement already satisfied: fsspec>=2022.4.0 in /usr/local/lib/python3.11/dist-packages (from dlt[duckdb]) (2024.10.0)\n",
            "Requirement already satisfied: gitpython>=3.1.29 in /usr/local/lib/python3.11/dist-packages (from dlt[duckdb]) (3.1.44)\n",
            "Collecting giturlparse>=0.10.0 (from dlt[duckdb])\n",
            "  Downloading giturlparse-0.12.0-py2.py3-none-any.whl.metadata (4.5 kB)\n",
            "Collecting hexbytes>=0.2.2 (from dlt[duckdb])\n",
            "  Downloading hexbytes-1.3.0-py3-none-any.whl.metadata (3.3 kB)\n",
            "Requirement already satisfied: humanize>=4.4.0 in /usr/local/lib/python3.11/dist-packages (from dlt[duckdb]) (4.11.0)\n",
            "Collecting jsonpath-ng>=1.5.3 (from dlt[duckdb])\n",
            "  Downloading jsonpath_ng-1.7.0-py3-none-any.whl.metadata (18 kB)\n",
            "Collecting makefun>=1.15.0 (from dlt[duckdb])\n",
            "  Downloading makefun-1.15.6-py2.py3-none-any.whl.metadata (3.2 kB)\n",
            "Requirement already satisfied: orjson!=3.10.1,!=3.9.11,!=3.9.12,!=3.9.13,!=3.9.14,<4,>=3.6.7 in /usr/local/lib/python3.11/dist-packages (from dlt[duckdb]) (3.10.15)\n",
            "Requirement already satisfied: packaging>=21.1 in /usr/local/lib/python3.11/dist-packages (from dlt[duckdb]) (24.2)\n",
            "Collecting pathvalidate>=2.5.2 (from dlt[duckdb])\n",
            "  Downloading pathvalidate-3.2.3-py3-none-any.whl.metadata (12 kB)\n",
            "Collecting pendulum>=2.1.2 (from dlt[duckdb])\n",
            "  Downloading pendulum-3.0.0-cp311-cp311-manylinux_2_17_x86_64.manylinux2014_x86_64.whl.metadata (6.9 kB)\n",
            "Requirement already satisfied: pluggy>=1.3.0 in /usr/local/lib/python3.11/dist-packages (from dlt[duckdb]) (1.5.0)\n",
            "Requirement already satisfied: pytz>=2022.6 in /usr/local/lib/python3.11/dist-packages (from dlt[duckdb]) (2025.1)\n",
            "Requirement already satisfied: requests>=2.26.0 in /usr/local/lib/python3.11/dist-packages (from dlt[duckdb]) (2.32.3)\n",
            "Requirement already satisfied: requirements-parser>=0.5.0 in /usr/local/lib/python3.11/dist-packages (from dlt[duckdb]) (0.9.0)\n",
            "Collecting rich-argparse<2.0.0,>=1.6.0 (from dlt[duckdb])\n",
            "  Downloading rich_argparse-1.7.0-py3-none-any.whl.metadata (14 kB)\n",
            "Collecting semver>=3.0.0 (from dlt[duckdb])\n",
            "  Downloading semver-3.0.4-py3-none-any.whl.metadata (6.8 kB)\n",
            "Requirement already satisfied: setuptools>=65.6.0 in /usr/local/lib/python3.11/dist-packages (from dlt[duckdb]) (75.1.0)\n",
            "Collecting simplejson>=3.17.5 (from dlt[duckdb])\n",
            "  Downloading simplejson-3.19.3-cp311-cp311-manylinux_2_5_x86_64.manylinux1_x86_64.manylinux_2_17_x86_64.manylinux2014_x86_64.whl.metadata (3.2 kB)\n",
            "Requirement already satisfied: tenacity>=8.0.2 in /usr/local/lib/python3.11/dist-packages (from dlt[duckdb]) (9.0.0)\n",
            "Collecting tomlkit>=0.11.3 (from dlt[duckdb])\n",
            "  Downloading tomlkit-0.13.2-py3-none-any.whl.metadata (2.7 kB)\n",
            "Requirement already satisfied: typing-extensions>=4.8.0 in /usr/local/lib/python3.11/dist-packages (from dlt[duckdb]) (4.12.2)\n",
            "Requirement already satisfied: tzdata>=2022.1 in /usr/local/lib/python3.11/dist-packages (from dlt[duckdb]) (2025.1)\n",
            "Requirement already satisfied: gitdb<5,>=4.0.1 in /usr/local/lib/python3.11/dist-packages (from gitpython>=3.1.29->dlt[duckdb]) (4.0.12)\n",
            "Requirement already satisfied: ply in /usr/local/lib/python3.11/dist-packages (from jsonpath-ng>=1.5.3->dlt[duckdb]) (3.11)\n",
            "Requirement already satisfied: python-dateutil>=2.6 in /usr/local/lib/python3.11/dist-packages (from pendulum>=2.1.2->dlt[duckdb]) (2.8.2)\n",
            "Collecting time-machine>=2.6.0 (from pendulum>=2.1.2->dlt[duckdb])\n",
            "  Downloading time_machine-2.16.0-cp311-cp311-manylinux_2_5_x86_64.manylinux1_x86_64.manylinux_2_17_x86_64.manylinux2014_x86_64.whl.metadata (21 kB)\n",
            "Requirement already satisfied: charset-normalizer<4,>=2 in /usr/local/lib/python3.11/dist-packages (from requests>=2.26.0->dlt[duckdb]) (3.4.1)\n",
            "Requirement already satisfied: idna<4,>=2.5 in /usr/local/lib/python3.11/dist-packages (from requests>=2.26.0->dlt[duckdb]) (3.10)\n",
            "Requirement already satisfied: urllib3<3,>=1.21.1 in /usr/local/lib/python3.11/dist-packages (from requests>=2.26.0->dlt[duckdb]) (2.3.0)\n",
            "Requirement already satisfied: certifi>=2017.4.17 in /usr/local/lib/python3.11/dist-packages (from requests>=2.26.0->dlt[duckdb]) (2025.1.31)\n",
            "Requirement already satisfied: types-setuptools>=69.1.0 in /usr/local/lib/python3.11/dist-packages (from requirements-parser>=0.5.0->dlt[duckdb]) (75.8.0.20250110)\n",
            "Requirement already satisfied: rich>=11.0.0 in /usr/local/lib/python3.11/dist-packages (from rich-argparse<2.0.0,>=1.6.0->dlt[duckdb]) (13.9.4)\n",
            "Requirement already satisfied: smmap<6,>=3.0.1 in /usr/local/lib/python3.11/dist-packages (from gitdb<5,>=4.0.1->gitpython>=3.1.29->dlt[duckdb]) (5.0.2)\n",
            "Requirement already satisfied: six>=1.5 in /usr/local/lib/python3.11/dist-packages (from python-dateutil>=2.6->pendulum>=2.1.2->dlt[duckdb]) (1.17.0)\n",
            "Requirement already satisfied: markdown-it-py>=2.2.0 in /usr/local/lib/python3.11/dist-packages (from rich>=11.0.0->rich-argparse<2.0.0,>=1.6.0->dlt[duckdb]) (3.0.0)\n",
            "Requirement already satisfied: pygments<3.0.0,>=2.13.0 in /usr/local/lib/python3.11/dist-packages (from rich>=11.0.0->rich-argparse<2.0.0,>=1.6.0->dlt[duckdb]) (2.18.0)\n",
            "Requirement already satisfied: mdurl~=0.1 in /usr/local/lib/python3.11/dist-packages (from markdown-it-py>=2.2.0->rich>=11.0.0->rich-argparse<2.0.0,>=1.6.0->dlt[duckdb]) (0.1.2)\n",
            "Downloading giturlparse-0.12.0-py2.py3-none-any.whl (15 kB)\n",
            "Downloading hexbytes-1.3.0-py3-none-any.whl (4.9 kB)\n",
            "Downloading jsonpath_ng-1.7.0-py3-none-any.whl (30 kB)\n",
            "Downloading makefun-1.15.6-py2.py3-none-any.whl (22 kB)\n",
            "Downloading pathvalidate-3.2.3-py3-none-any.whl (24 kB)\n",
            "Downloading pendulum-3.0.0-cp311-cp311-manylinux_2_17_x86_64.manylinux2014_x86_64.whl (384 kB)\n",
            "\u001b[2K   \u001b[90m━━━━━━━━━━━━━━━━━━━━━━━━━━━━━━━━━━━━━━━━\u001b[0m \u001b[32m384.9/384.9 kB\u001b[0m \u001b[31m8.0 MB/s\u001b[0m eta \u001b[36m0:00:00\u001b[0m\n",
            "\u001b[?25hDownloading rich_argparse-1.7.0-py3-none-any.whl (25 kB)\n",
            "Downloading semver-3.0.4-py3-none-any.whl (17 kB)\n",
            "Downloading simplejson-3.19.3-cp311-cp311-manylinux_2_5_x86_64.manylinux1_x86_64.manylinux_2_17_x86_64.manylinux2014_x86_64.whl (144 kB)\n",
            "\u001b[2K   \u001b[90m━━━━━━━━━━━━━━━━━━━━━━━━━━━━━━━━━━━━━━━━\u001b[0m \u001b[32m144.7/144.7 kB\u001b[0m \u001b[31m6.8 MB/s\u001b[0m eta \u001b[36m0:00:00\u001b[0m\n",
            "\u001b[?25hDownloading tomlkit-0.13.2-py3-none-any.whl (37 kB)\n",
            "Downloading dlt-1.6.1-py3-none-any.whl (884 kB)\n",
            "\u001b[2K   \u001b[90m━━━━━━━━━━━━━━━━━━━━━━━━━━━━━━━━━━━━━━━━\u001b[0m \u001b[32m884.3/884.3 kB\u001b[0m \u001b[31m30.3 MB/s\u001b[0m eta \u001b[36m0:00:00\u001b[0m\n",
            "\u001b[?25hDownloading time_machine-2.16.0-cp311-cp311-manylinux_2_5_x86_64.manylinux1_x86_64.manylinux_2_17_x86_64.manylinux2014_x86_64.whl (32 kB)\n",
            "Installing collected packages: makefun, tomlkit, simplejson, semver, pathvalidate, jsonpath-ng, hexbytes, giturlparse, time-machine, rich-argparse, pendulum, dlt\n",
            "Successfully installed dlt-1.6.1 giturlparse-0.12.0 hexbytes-1.3.0 jsonpath-ng-1.7.0 makefun-1.15.6 pathvalidate-3.2.3 pendulum-3.0.0 rich-argparse-1.7.0 semver-3.0.4 simplejson-3.19.3 time-machine-2.16.0 tomlkit-0.13.2\n"
          ]
        }
      ]
    },
    {
      "cell_type": "markdown",
      "source": [
        "> Or choose a different bracket—`bigquery`, `redshift`, etc.—if you prefer another primary destination. For this assignment, we’ll still do a quick test with DuckDB.\n",
        "\n",
        "2. **Check** the version:\n"
      ],
      "metadata": {
        "id": "Xv9gkwKIV3wM"
      }
    },
    {
      "cell_type": "code",
      "source": [
        "!dlt --version"
      ],
      "metadata": {
        "id": "scFCGjeMWCkI",
        "outputId": "f80abcf1-1bba-4c45-c5fd-db2189058c74",
        "colab": {
          "base_uri": "https://localhost:8080/"
        }
      },
      "execution_count": 2,
      "outputs": [
        {
          "output_type": "stream",
          "name": "stdout",
          "text": [
            "\u001b[39mdlt 1.6.1\u001b[0m\n"
          ]
        }
      ]
    },
    {
      "cell_type": "markdown",
      "source": [
        "or:"
      ],
      "metadata": {
        "id": "Z-YrUxR8WFNw"
      }
    },
    {
      "cell_type": "code",
      "source": [
        "import dlt\n",
        "print(\"dlt version:\", dlt.__version__)"
      ],
      "metadata": {
        "id": "SSm1xDzPV5dO",
        "outputId": "2ce8017b-f185-4b75-9f64-39f5fada6403",
        "colab": {
          "base_uri": "https://localhost:8080/"
        }
      },
      "execution_count": 3,
      "outputs": [
        {
          "output_type": "stream",
          "name": "stdout",
          "text": [
            "dlt version: 1.6.1\n"
          ]
        }
      ]
    },
    {
      "cell_type": "markdown",
      "source": [
        "**Answer**:  \n",
        "- Provide the **version** you see in the output.\n",
        "\n",
        "***1.6.1***"
      ],
      "metadata": {
        "id": "f0Z3F5s4WaXO"
      }
    },
    {
      "cell_type": "markdown",
      "source": [
        "## **Question 2: Define & Run the Pipeline (NYC Taxi API)**\n",
        "\n",
        "Use dlt to extract all pages of data from the API.\n",
        "\n",
        "Steps:\n",
        "\n",
        "1️⃣ Use the `@dlt.resource` decorator to define the API source.\n",
        "\n",
        "2️⃣ Implement automatic pagination using dlt's built-in REST client.\n",
        "\n",
        "3️⃣ Load the extracted data into DuckDB for querying.\n",
        "\n"
      ],
      "metadata": {
        "id": "M02IXn-GWdBO"
      }
    },
    {
      "cell_type": "code",
      "source": [
        "import dlt\n",
        "from dlt.sources.helpers.rest_client import RESTClient\n",
        "from dlt.sources.helpers.rest_client.paginators import PageNumberPaginator\n",
        "\n",
        "\n",
        "@dlt.resource(name=\"rides\")\n",
        "def ny_taxi():\n",
        "  client = RESTClient(\n",
        "      base_url=\"https://us-central1-dlthub-analytics.cloudfunctions.net\",\n",
        "    paginator = PageNumberPaginator(\n",
        "        base_page=1,\n",
        "        total_path=None\n",
        "    )\n",
        "  )\n",
        "\n",
        "  for page in client.paginate(\"data_engineering_zoomcamp_api\"):\n",
        "    yield page\n",
        "\n",
        "\n",
        "pipeline = dlt.pipeline(\n",
        "    pipeline_name=\"ny_taxi_pipeline\",\n",
        "    destination=\"duckdb\",\n",
        "    dataset_name=\"ny_taxi_data\"\n",
        ")"
      ],
      "metadata": {
        "id": "8ChhfBNUWshT"
      },
      "execution_count": 6,
      "outputs": []
    },
    {
      "cell_type": "markdown",
      "source": [
        "Load the data into DuckDB to test:\n",
        "\n",
        "\n",
        "\n",
        "\n"
      ],
      "metadata": {
        "id": "Y64a4o7qXGzH"
      }
    },
    {
      "cell_type": "code",
      "source": [
        "load_info = pipeline.run(ny_taxi)\n",
        "print(load_info)"
      ],
      "metadata": {
        "id": "emXcAQN2XIYk",
        "outputId": "3b79a7b8-71a7-4538-b503-501024063a79",
        "colab": {
          "base_uri": "https://localhost:8080/"
        }
      },
      "execution_count": 7,
      "outputs": [
        {
          "output_type": "stream",
          "name": "stdout",
          "text": [
            "Pipeline ny_taxi_pipeline load step completed in 2.53 seconds\n",
            "1 load package(s) were loaded to destination duckdb and into dataset ny_taxi_data\n",
            "The duckdb destination used duckdb:////content/ny_taxi_pipeline.duckdb location to store data\n",
            "Load package 1739295597.2870467 is LOADED and contains no failed jobs\n"
          ]
        }
      ]
    },
    {
      "cell_type": "markdown",
      "source": [
        "Start a connection to your database using native `duckdb` connection and look what tables were generated:"
      ],
      "metadata": {
        "id": "VfFtRuJLeTJZ"
      }
    },
    {
      "cell_type": "code",
      "source": [
        "import duckdb\n",
        "from google.colab import data_table\n",
        "data_table.enable_dataframe_formatter()\n",
        "\n",
        "# A database '<pipeline_name>.duckdb' was created in working directory so just connect to it\n",
        "\n",
        "# Connect to the DuckDB database\n",
        "conn = duckdb.connect(f\"{pipeline.pipeline_name}.duckdb\")\n",
        "\n",
        "# Set search path to the dataset\n",
        "conn.sql(f\"SET search_path = '{pipeline.dataset_name}'\")\n",
        "\n",
        "# Describe the dataset\n",
        "conn.sql(\"DESCRIBE\").df()"
      ],
      "metadata": {
        "id": "bmOjtD-Xeq3K",
        "outputId": "7158ce0a-61ec-4956-d465-dbdaa578b6b9",
        "colab": {
          "base_uri": "https://localhost:8080/",
          "height": 373
        }
      },
      "execution_count": 8,
      "outputs": [
        {
          "output_type": "execute_result",
          "data": {
            "text/plain": [
              "           database        schema                 name  \\\n",
              "0  ny_taxi_pipeline  ny_taxi_data           _dlt_loads   \n",
              "1  ny_taxi_pipeline  ny_taxi_data  _dlt_pipeline_state   \n",
              "2  ny_taxi_pipeline  ny_taxi_data         _dlt_version   \n",
              "3  ny_taxi_pipeline  ny_taxi_data                rides   \n",
              "\n",
              "                                        column_names  \\\n",
              "0  [load_id, schema_name, status, inserted_at, sc...   \n",
              "1  [version, engine_version, pipeline_name, state...   \n",
              "2  [version, engine_version, inserted_at, schema_...   \n",
              "3  [end_lat, end_lon, fare_amt, passenger_count, ...   \n",
              "\n",
              "                                        column_types  temporary  \n",
              "0  [VARCHAR, VARCHAR, BIGINT, TIMESTAMP WITH TIME...      False  \n",
              "1  [BIGINT, BIGINT, VARCHAR, VARCHAR, TIMESTAMP W...      False  \n",
              "2  [BIGINT, BIGINT, TIMESTAMP WITH TIME ZONE, VAR...      False  \n",
              "3  [DOUBLE, DOUBLE, DOUBLE, BIGINT, VARCHAR, DOUB...      False  "
            ],
            "text/html": [
              "\n",
              "  <div id=\"df-10c3dcf2-ab04-4150-87e7-3fb9f50e2325\" class=\"colab-df-container\">\n",
              "    <div>\n",
              "<style scoped>\n",
              "    .dataframe tbody tr th:only-of-type {\n",
              "        vertical-align: middle;\n",
              "    }\n",
              "\n",
              "    .dataframe tbody tr th {\n",
              "        vertical-align: top;\n",
              "    }\n",
              "\n",
              "    .dataframe thead th {\n",
              "        text-align: right;\n",
              "    }\n",
              "</style>\n",
              "<table border=\"1\" class=\"dataframe\">\n",
              "  <thead>\n",
              "    <tr style=\"text-align: right;\">\n",
              "      <th></th>\n",
              "      <th>database</th>\n",
              "      <th>schema</th>\n",
              "      <th>name</th>\n",
              "      <th>column_names</th>\n",
              "      <th>column_types</th>\n",
              "      <th>temporary</th>\n",
              "    </tr>\n",
              "  </thead>\n",
              "  <tbody>\n",
              "    <tr>\n",
              "      <th>0</th>\n",
              "      <td>ny_taxi_pipeline</td>\n",
              "      <td>ny_taxi_data</td>\n",
              "      <td>_dlt_loads</td>\n",
              "      <td>[load_id, schema_name, status, inserted_at, sc...</td>\n",
              "      <td>[VARCHAR, VARCHAR, BIGINT, TIMESTAMP WITH TIME...</td>\n",
              "      <td>False</td>\n",
              "    </tr>\n",
              "    <tr>\n",
              "      <th>1</th>\n",
              "      <td>ny_taxi_pipeline</td>\n",
              "      <td>ny_taxi_data</td>\n",
              "      <td>_dlt_pipeline_state</td>\n",
              "      <td>[version, engine_version, pipeline_name, state...</td>\n",
              "      <td>[BIGINT, BIGINT, VARCHAR, VARCHAR, TIMESTAMP W...</td>\n",
              "      <td>False</td>\n",
              "    </tr>\n",
              "    <tr>\n",
              "      <th>2</th>\n",
              "      <td>ny_taxi_pipeline</td>\n",
              "      <td>ny_taxi_data</td>\n",
              "      <td>_dlt_version</td>\n",
              "      <td>[version, engine_version, inserted_at, schema_...</td>\n",
              "      <td>[BIGINT, BIGINT, TIMESTAMP WITH TIME ZONE, VAR...</td>\n",
              "      <td>False</td>\n",
              "    </tr>\n",
              "    <tr>\n",
              "      <th>3</th>\n",
              "      <td>ny_taxi_pipeline</td>\n",
              "      <td>ny_taxi_data</td>\n",
              "      <td>rides</td>\n",
              "      <td>[end_lat, end_lon, fare_amt, passenger_count, ...</td>\n",
              "      <td>[DOUBLE, DOUBLE, DOUBLE, BIGINT, VARCHAR, DOUB...</td>\n",
              "      <td>False</td>\n",
              "    </tr>\n",
              "  </tbody>\n",
              "</table>\n",
              "</div>\n",
              "    <div class=\"colab-df-buttons\">\n",
              "\n",
              "  <div class=\"colab-df-container\">\n",
              "    <button class=\"colab-df-convert\" onclick=\"convertToInteractive('df-10c3dcf2-ab04-4150-87e7-3fb9f50e2325')\"\n",
              "            title=\"Convert this dataframe to an interactive table.\"\n",
              "            style=\"display:none;\">\n",
              "\n",
              "  <svg xmlns=\"http://www.w3.org/2000/svg\" height=\"24px\" viewBox=\"0 -960 960 960\">\n",
              "    <path d=\"M120-120v-720h720v720H120Zm60-500h600v-160H180v160Zm220 220h160v-160H400v160Zm0 220h160v-160H400v160ZM180-400h160v-160H180v160Zm440 0h160v-160H620v160ZM180-180h160v-160H180v160Zm440 0h160v-160H620v160Z\"/>\n",
              "  </svg>\n",
              "    </button>\n",
              "\n",
              "  <style>\n",
              "    .colab-df-container {\n",
              "      display:flex;\n",
              "      gap: 12px;\n",
              "    }\n",
              "\n",
              "    .colab-df-convert {\n",
              "      background-color: #E8F0FE;\n",
              "      border: none;\n",
              "      border-radius: 50%;\n",
              "      cursor: pointer;\n",
              "      display: none;\n",
              "      fill: #1967D2;\n",
              "      height: 32px;\n",
              "      padding: 0 0 0 0;\n",
              "      width: 32px;\n",
              "    }\n",
              "\n",
              "    .colab-df-convert:hover {\n",
              "      background-color: #E2EBFA;\n",
              "      box-shadow: 0px 1px 2px rgba(60, 64, 67, 0.3), 0px 1px 3px 1px rgba(60, 64, 67, 0.15);\n",
              "      fill: #174EA6;\n",
              "    }\n",
              "\n",
              "    .colab-df-buttons div {\n",
              "      margin-bottom: 4px;\n",
              "    }\n",
              "\n",
              "    [theme=dark] .colab-df-convert {\n",
              "      background-color: #3B4455;\n",
              "      fill: #D2E3FC;\n",
              "    }\n",
              "\n",
              "    [theme=dark] .colab-df-convert:hover {\n",
              "      background-color: #434B5C;\n",
              "      box-shadow: 0px 1px 3px 1px rgba(0, 0, 0, 0.15);\n",
              "      filter: drop-shadow(0px 1px 2px rgba(0, 0, 0, 0.3));\n",
              "      fill: #FFFFFF;\n",
              "    }\n",
              "  </style>\n",
              "\n",
              "    <script>\n",
              "      const buttonEl =\n",
              "        document.querySelector('#df-10c3dcf2-ab04-4150-87e7-3fb9f50e2325 button.colab-df-convert');\n",
              "      buttonEl.style.display =\n",
              "        google.colab.kernel.accessAllowed ? 'block' : 'none';\n",
              "\n",
              "      async function convertToInteractive(key) {\n",
              "        const element = document.querySelector('#df-10c3dcf2-ab04-4150-87e7-3fb9f50e2325');\n",
              "        const dataTable =\n",
              "          await google.colab.kernel.invokeFunction('convertToInteractive',\n",
              "                                                    [key], {});\n",
              "        if (!dataTable) return;\n",
              "\n",
              "        const docLinkHtml = 'Like what you see? Visit the ' +\n",
              "          '<a target=\"_blank\" href=https://colab.research.google.com/notebooks/data_table.ipynb>data table notebook</a>'\n",
              "          + ' to learn more about interactive tables.';\n",
              "        element.innerHTML = '';\n",
              "        dataTable['output_type'] = 'display_data';\n",
              "        await google.colab.output.renderOutput(dataTable, element);\n",
              "        const docLink = document.createElement('div');\n",
              "        docLink.innerHTML = docLinkHtml;\n",
              "        element.appendChild(docLink);\n",
              "      }\n",
              "    </script>\n",
              "  </div>\n",
              "\n",
              "\n",
              "<div id=\"df-608b88d6-c812-454a-9973-f8d0f41e12d8\">\n",
              "  <button class=\"colab-df-quickchart\" onclick=\"quickchart('df-608b88d6-c812-454a-9973-f8d0f41e12d8')\"\n",
              "            title=\"Suggest charts\"\n",
              "            style=\"display:none;\">\n",
              "\n",
              "<svg xmlns=\"http://www.w3.org/2000/svg\" height=\"24px\"viewBox=\"0 0 24 24\"\n",
              "     width=\"24px\">\n",
              "    <g>\n",
              "        <path d=\"M19 3H5c-1.1 0-2 .9-2 2v14c0 1.1.9 2 2 2h14c1.1 0 2-.9 2-2V5c0-1.1-.9-2-2-2zM9 17H7v-7h2v7zm4 0h-2V7h2v10zm4 0h-2v-4h2v4z\"/>\n",
              "    </g>\n",
              "</svg>\n",
              "  </button>\n",
              "\n",
              "<style>\n",
              "  .colab-df-quickchart {\n",
              "      --bg-color: #E8F0FE;\n",
              "      --fill-color: #1967D2;\n",
              "      --hover-bg-color: #E2EBFA;\n",
              "      --hover-fill-color: #174EA6;\n",
              "      --disabled-fill-color: #AAA;\n",
              "      --disabled-bg-color: #DDD;\n",
              "  }\n",
              "\n",
              "  [theme=dark] .colab-df-quickchart {\n",
              "      --bg-color: #3B4455;\n",
              "      --fill-color: #D2E3FC;\n",
              "      --hover-bg-color: #434B5C;\n",
              "      --hover-fill-color: #FFFFFF;\n",
              "      --disabled-bg-color: #3B4455;\n",
              "      --disabled-fill-color: #666;\n",
              "  }\n",
              "\n",
              "  .colab-df-quickchart {\n",
              "    background-color: var(--bg-color);\n",
              "    border: none;\n",
              "    border-radius: 50%;\n",
              "    cursor: pointer;\n",
              "    display: none;\n",
              "    fill: var(--fill-color);\n",
              "    height: 32px;\n",
              "    padding: 0;\n",
              "    width: 32px;\n",
              "  }\n",
              "\n",
              "  .colab-df-quickchart:hover {\n",
              "    background-color: var(--hover-bg-color);\n",
              "    box-shadow: 0 1px 2px rgba(60, 64, 67, 0.3), 0 1px 3px 1px rgba(60, 64, 67, 0.15);\n",
              "    fill: var(--button-hover-fill-color);\n",
              "  }\n",
              "\n",
              "  .colab-df-quickchart-complete:disabled,\n",
              "  .colab-df-quickchart-complete:disabled:hover {\n",
              "    background-color: var(--disabled-bg-color);\n",
              "    fill: var(--disabled-fill-color);\n",
              "    box-shadow: none;\n",
              "  }\n",
              "\n",
              "  .colab-df-spinner {\n",
              "    border: 2px solid var(--fill-color);\n",
              "    border-color: transparent;\n",
              "    border-bottom-color: var(--fill-color);\n",
              "    animation:\n",
              "      spin 1s steps(1) infinite;\n",
              "  }\n",
              "\n",
              "  @keyframes spin {\n",
              "    0% {\n",
              "      border-color: transparent;\n",
              "      border-bottom-color: var(--fill-color);\n",
              "      border-left-color: var(--fill-color);\n",
              "    }\n",
              "    20% {\n",
              "      border-color: transparent;\n",
              "      border-left-color: var(--fill-color);\n",
              "      border-top-color: var(--fill-color);\n",
              "    }\n",
              "    30% {\n",
              "      border-color: transparent;\n",
              "      border-left-color: var(--fill-color);\n",
              "      border-top-color: var(--fill-color);\n",
              "      border-right-color: var(--fill-color);\n",
              "    }\n",
              "    40% {\n",
              "      border-color: transparent;\n",
              "      border-right-color: var(--fill-color);\n",
              "      border-top-color: var(--fill-color);\n",
              "    }\n",
              "    60% {\n",
              "      border-color: transparent;\n",
              "      border-right-color: var(--fill-color);\n",
              "    }\n",
              "    80% {\n",
              "      border-color: transparent;\n",
              "      border-right-color: var(--fill-color);\n",
              "      border-bottom-color: var(--fill-color);\n",
              "    }\n",
              "    90% {\n",
              "      border-color: transparent;\n",
              "      border-bottom-color: var(--fill-color);\n",
              "    }\n",
              "  }\n",
              "</style>\n",
              "\n",
              "  <script>\n",
              "    async function quickchart(key) {\n",
              "      const quickchartButtonEl =\n",
              "        document.querySelector('#' + key + ' button');\n",
              "      quickchartButtonEl.disabled = true;  // To prevent multiple clicks.\n",
              "      quickchartButtonEl.classList.add('colab-df-spinner');\n",
              "      try {\n",
              "        const charts = await google.colab.kernel.invokeFunction(\n",
              "            'suggestCharts', [key], {});\n",
              "      } catch (error) {\n",
              "        console.error('Error during call to suggestCharts:', error);\n",
              "      }\n",
              "      quickchartButtonEl.classList.remove('colab-df-spinner');\n",
              "      quickchartButtonEl.classList.add('colab-df-quickchart-complete');\n",
              "    }\n",
              "    (() => {\n",
              "      let quickchartButtonEl =\n",
              "        document.querySelector('#df-608b88d6-c812-454a-9973-f8d0f41e12d8 button');\n",
              "      quickchartButtonEl.style.display =\n",
              "        google.colab.kernel.accessAllowed ? 'block' : 'none';\n",
              "    })();\n",
              "  </script>\n",
              "</div>\n",
              "\n",
              "    </div>\n",
              "  </div>\n"
            ],
            "application/vnd.google.colaboratory.intrinsic+json": {
              "type": "dataframe",
              "summary": "{\n  \"name\": \"conn\",\n  \"rows\": 4,\n  \"fields\": [\n    {\n      \"column\": \"database\",\n      \"properties\": {\n        \"dtype\": \"category\",\n        \"num_unique_values\": 1,\n        \"samples\": [\n          \"ny_taxi_pipeline\"\n        ],\n        \"semantic_type\": \"\",\n        \"description\": \"\"\n      }\n    },\n    {\n      \"column\": \"schema\",\n      \"properties\": {\n        \"dtype\": \"category\",\n        \"num_unique_values\": 1,\n        \"samples\": [\n          \"ny_taxi_data\"\n        ],\n        \"semantic_type\": \"\",\n        \"description\": \"\"\n      }\n    },\n    {\n      \"column\": \"name\",\n      \"properties\": {\n        \"dtype\": \"string\",\n        \"num_unique_values\": 4,\n        \"samples\": [\n          \"_dlt_pipeline_state\"\n        ],\n        \"semantic_type\": \"\",\n        \"description\": \"\"\n      }\n    },\n    {\n      \"column\": \"column_names\",\n      \"properties\": {\n        \"dtype\": \"object\",\n        \"semantic_type\": \"\",\n        \"description\": \"\"\n      }\n    },\n    {\n      \"column\": \"column_types\",\n      \"properties\": {\n        \"dtype\": \"object\",\n        \"semantic_type\": \"\",\n        \"description\": \"\"\n      }\n    },\n    {\n      \"column\": \"temporary\",\n      \"properties\": {\n        \"dtype\": \"boolean\",\n        \"num_unique_values\": 1,\n        \"samples\": [\n          false\n        ],\n        \"semantic_type\": \"\",\n        \"description\": \"\"\n      }\n    }\n  ]\n}"
            },
            "application/vnd.google.colaboratory.module+javascript": "\n      import \"https://ssl.gstatic.com/colaboratory/data_table/e523c247d1e24a05/data_table.js\";\n\n      const table = window.createDataTable({\n        data: [[{\n            'v': 0,\n            'f': \"0\",\n        },\n\"ny_taxi_pipeline\",\n\"ny_taxi_data\",\n\"_dlt_loads\",\n\"['load_id' 'schema_name' 'status' 'inserted_at' 'schema_version_hash']\",\n\"['VARCHAR' 'VARCHAR' 'BIGINT' 'TIMESTAMP WITH TIME ZONE' 'VARCHAR']\",\nfalse],\n [{\n            'v': 1,\n            'f': \"1\",\n        },\n\"ny_taxi_pipeline\",\n\"ny_taxi_data\",\n\"_dlt_pipeline_state\",\n\"['version' 'engine_version' 'pipeline_name' 'state' 'created_at'\\n 'version_hash' '_dlt_load_id' '_dlt_id']\",\n\"['BIGINT' 'BIGINT' 'VARCHAR' 'VARCHAR' 'TIMESTAMP WITH TIME ZONE'\\n 'VARCHAR' 'VARCHAR' 'VARCHAR']\",\nfalse],\n [{\n            'v': 2,\n            'f': \"2\",\n        },\n\"ny_taxi_pipeline\",\n\"ny_taxi_data\",\n\"_dlt_version\",\n\"['version' 'engine_version' 'inserted_at' 'schema_name' 'version_hash'\\n 'schema']\",\n\"['BIGINT' 'BIGINT' 'TIMESTAMP WITH TIME ZONE' 'VARCHAR' 'VARCHAR'\\n 'VARCHAR']\",\nfalse],\n [{\n            'v': 3,\n            'f': \"3\",\n        },\n\"ny_taxi_pipeline\",\n\"ny_taxi_data\",\n\"rides\",\n\"['end_lat' 'end_lon' 'fare_amt' 'passenger_count' 'payment_type'\\n 'start_lat' 'start_lon' 'tip_amt' 'tolls_amt' 'total_amt' 'trip_distance'\\n 'trip_dropoff_date_time' 'trip_pickup_date_time' 'surcharge'\\n 'vendor_name' '_dlt_load_id' '_dlt_id' 'store_and_forward']\",\n\"['DOUBLE' 'DOUBLE' 'DOUBLE' 'BIGINT' 'VARCHAR' 'DOUBLE' 'DOUBLE' 'DOUBLE'\\n 'DOUBLE' 'DOUBLE' 'DOUBLE' 'TIMESTAMP WITH TIME ZONE'\\n 'TIMESTAMP WITH TIME ZONE' 'DOUBLE' 'VARCHAR' 'VARCHAR' 'VARCHAR'\\n 'DOUBLE']\",\nfalse]],\n        columns: [[\"number\", \"index\"], [\"string\", \"database\"], [\"string\", \"schema\"], [\"string\", \"name\"], [\"string\", \"column_names\"], [\"string\", \"column_types\"], [\"string\", \"temporary\"]],\n        columnOptions: [{\"width\": \"1px\", \"className\": \"index_column\"}],\n        rowsPerPage: 25,\n        helpUrl: \"https://colab.research.google.com/notebooks/data_table.ipynb\",\n        suppressOutputScrolling: true,\n        minimumWidth: undefined,\n      });\n\n      function appendQuickchartButton(parentElement) {\n        let quickchartButtonContainerElement = document.createElement('div');\n        quickchartButtonContainerElement.innerHTML = `\n<div id=\"df-c3ab8c68-0b55-4687-9b21-c5ea26e84bb2\">\n  <button class=\"colab-df-quickchart\" onclick=\"quickchart('df-c3ab8c68-0b55-4687-9b21-c5ea26e84bb2')\"\n            title=\"Suggest charts\"\n            style=\"display:none;\">\n    \n<svg xmlns=\"http://www.w3.org/2000/svg\" height=\"24px\"viewBox=\"0 0 24 24\"\n     width=\"24px\">\n    <g>\n        <path d=\"M19 3H5c-1.1 0-2 .9-2 2v14c0 1.1.9 2 2 2h14c1.1 0 2-.9 2-2V5c0-1.1-.9-2-2-2zM9 17H7v-7h2v7zm4 0h-2V7h2v10zm4 0h-2v-4h2v4z\"/>\n    </g>\n</svg>\n  </button>\n  \n<style>\n  .colab-df-quickchart {\n      --bg-color: #E8F0FE;\n      --fill-color: #1967D2;\n      --hover-bg-color: #E2EBFA;\n      --hover-fill-color: #174EA6;\n      --disabled-fill-color: #AAA;\n      --disabled-bg-color: #DDD;\n  }\n\n  [theme=dark] .colab-df-quickchart {\n      --bg-color: #3B4455;\n      --fill-color: #D2E3FC;\n      --hover-bg-color: #434B5C;\n      --hover-fill-color: #FFFFFF;\n      --disabled-bg-color: #3B4455;\n      --disabled-fill-color: #666;\n  }\n\n  .colab-df-quickchart {\n    background-color: var(--bg-color);\n    border: none;\n    border-radius: 50%;\n    cursor: pointer;\n    display: none;\n    fill: var(--fill-color);\n    height: 32px;\n    padding: 0;\n    width: 32px;\n  }\n\n  .colab-df-quickchart:hover {\n    background-color: var(--hover-bg-color);\n    box-shadow: 0 1px 2px rgba(60, 64, 67, 0.3), 0 1px 3px 1px rgba(60, 64, 67, 0.15);\n    fill: var(--button-hover-fill-color);\n  }\n\n  .colab-df-quickchart-complete:disabled,\n  .colab-df-quickchart-complete:disabled:hover {\n    background-color: var(--disabled-bg-color);\n    fill: var(--disabled-fill-color);\n    box-shadow: none;\n  }\n\n  .colab-df-spinner {\n    border: 2px solid var(--fill-color);\n    border-color: transparent;\n    border-bottom-color: var(--fill-color);\n    animation:\n      spin 1s steps(1) infinite;\n  }\n\n  @keyframes spin {\n    0% {\n      border-color: transparent;\n      border-bottom-color: var(--fill-color);\n      border-left-color: var(--fill-color);\n    }\n    20% {\n      border-color: transparent;\n      border-left-color: var(--fill-color);\n      border-top-color: var(--fill-color);\n    }\n    30% {\n      border-color: transparent;\n      border-left-color: var(--fill-color);\n      border-top-color: var(--fill-color);\n      border-right-color: var(--fill-color);\n    }\n    40% {\n      border-color: transparent;\n      border-right-color: var(--fill-color);\n      border-top-color: var(--fill-color);\n    }\n    60% {\n      border-color: transparent;\n      border-right-color: var(--fill-color);\n    }\n    80% {\n      border-color: transparent;\n      border-right-color: var(--fill-color);\n      border-bottom-color: var(--fill-color);\n    }\n    90% {\n      border-color: transparent;\n      border-bottom-color: var(--fill-color);\n    }\n  }\n</style>\n\n  <script>\n    async function quickchart(key) {\n      const quickchartButtonEl =\n        document.querySelector('#' + key + ' button');\n      quickchartButtonEl.disabled = true;  // To prevent multiple clicks.\n      quickchartButtonEl.classList.add('colab-df-spinner');\n      try {\n        const charts = await google.colab.kernel.invokeFunction(\n            'suggestCharts', [key], {});\n      } catch (error) {\n        console.error('Error during call to suggestCharts:', error);\n      }\n      quickchartButtonEl.classList.remove('colab-df-spinner');\n      quickchartButtonEl.classList.add('colab-df-quickchart-complete');\n    }\n    (() => {\n      let quickchartButtonEl =\n        document.querySelector('#df-c3ab8c68-0b55-4687-9b21-c5ea26e84bb2 button');\n      quickchartButtonEl.style.display =\n        google.colab.kernel.accessAllowed ? 'block' : 'none';\n    })();\n  </script>\n</div>`;\n        parentElement.appendChild(quickchartButtonContainerElement);\n      }\n\n      appendQuickchartButton(table);\n    "
          },
          "metadata": {},
          "execution_count": 8
        }
      ]
    },
    {
      "cell_type": "markdown",
      "source": [
        "**Answer:**\n",
        "* How many tables were created?\n",
        "\n",
        "***4 tables were created***"
      ],
      "metadata": {
        "id": "lmfI_zjoeIrf"
      }
    },
    {
      "cell_type": "markdown",
      "source": [
        "## **Question 3: Explore the loaded data**"
      ],
      "metadata": {
        "id": "LLuS9O63f-fv"
      }
    },
    {
      "cell_type": "markdown",
      "source": [
        "Inspect the table `ride`:\n"
      ],
      "metadata": {
        "id": "d_cWQaQjXLn8"
      }
    },
    {
      "cell_type": "code",
      "source": [
        "df = pipeline.dataset(dataset_type=\"default\").rides.df()\n",
        "print(df.shape)"
      ],
      "metadata": {
        "id": "lvpYmnhkXKLZ",
        "outputId": "4d24d45e-131c-48f3-abc6-4e7d3fac83c4",
        "colab": {
          "base_uri": "https://localhost:8080/"
        }
      },
      "execution_count": 10,
      "outputs": [
        {
          "output_type": "stream",
          "name": "stdout",
          "text": [
            "(10000, 18)\n"
          ]
        }
      ]
    },
    {
      "cell_type": "markdown",
      "source": [
        "**Answer:**\n",
        "* What is the total number of records extracted?\n",
        "\n",
        "***10000***"
      ],
      "metadata": {
        "id": "OZEvd9TcgEst"
      }
    },
    {
      "cell_type": "markdown",
      "source": [
        "## **Question 4: Trip Duration Analysis**\n",
        "\n",
        "Run the SQL query below to:\n",
        "\n",
        "* Calculate the average trip duration in minutes."
      ],
      "metadata": {
        "id": "joyAEvNae6Ds"
      }
    },
    {
      "cell_type": "code",
      "source": [
        "with pipeline.sql_client() as client:\n",
        "    res = client.execute_sql(\n",
        "            \"\"\"\n",
        "            SELECT\n",
        "            AVG(date_diff('minute', trip_pickup_date_time, trip_dropoff_date_time))\n",
        "            FROM rides;\n",
        "            \"\"\"\n",
        "        )\n",
        "    # Prints column values of the first row\n",
        "    print(res)"
      ],
      "metadata": {
        "id": "BtsSxtFfXQs3",
        "outputId": "88f425bf-f7ec-49d4-ba26-f57b1457ae27",
        "colab": {
          "base_uri": "https://localhost:8080/"
        }
      },
      "execution_count": 11,
      "outputs": [
        {
          "output_type": "stream",
          "name": "stdout",
          "text": [
            "[(12.3049,)]\n"
          ]
        }
      ]
    },
    {
      "cell_type": "markdown",
      "source": [
        "**Answer:**\n",
        "* What is the average trip duration?\n",
        "\n",
        "***12.3049***"
      ],
      "metadata": {
        "id": "YTIydWT0dTf9"
      }
    },
    {
      "cell_type": "markdown",
      "source": [
        "## **Submitting the solutions**\n",
        "\n",
        "* Form for submitting: TBA\n",
        "\n",
        "\n"
      ],
      "metadata": {
        "id": "kEFQZKB0gkCI"
      }
    },
    {
      "cell_type": "markdown",
      "source": [
        "## **Solution**\n",
        "\n",
        "We will publish the solution here after deadline."
      ],
      "metadata": {
        "id": "cPrgwE3ziNan"
      }
    }
  ]
}